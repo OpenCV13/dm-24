{
  "nbformat": 4,
  "nbformat_minor": 0,
  "metadata": {
    "colab": {
      "provenance": [],
      "mount_file_id": "https://github.com/adong-hood/dm-24/blob/main/module_0.ipynb",
      "authorship_tag": "ABX9TyNDpv5lYXYG/zhbQpR51KR5",
      "include_colab_link": true
    },
    "kernelspec": {
      "name": "python3",
      "display_name": "Python 3"
    },
    "language_info": {
      "name": "python"
    }
  },
  "cells": [
    {
      "cell_type": "markdown",
      "metadata": {
        "id": "view-in-github",
        "colab_type": "text"
      },
      "source": [
        "<a href=\"https://colab.research.google.com/github/adong-hood/dm-24/blob/main/module_0.ipynb\" target=\"_parent\"><img src=\"https://colab.research.google.com/assets/colab-badge.svg\" alt=\"Open In Colab\"/></a>"
      ]
    },
    {
      "cell_type": "markdown",
      "source": [
        "## Gettinng started"
      ],
      "metadata": {
        "id": "gFWT7qKj8CKy"
      }
    },
    {
      "cell_type": "markdown",
      "source": [
        "### 1. After the lecture, reflect what your goals are for this class."
      ],
      "metadata": {
        "id": "J1EMjuUC8Zwo"
      }
    },
    {
      "cell_type": "markdown",
      "source": [],
      "metadata": {
        "id": "mBCKMGm0-5oV"
      }
    },
    {
      "cell_type": "markdown",
      "source": [
        "### 2. Answer this question.\n",
        "<p>For the data set given/described below, give specific examples of classification, clustering, association rule mining, and anomaly detection tasks that can be performed on the data. For each task, state how the data matrix should be constructed (i.e., specify the rows and columns of the matrix).</p>\n",
        "\n",
        "*Ambulatory Medical Care data, which contains the demographic and medical visit information for each patient (e.g., gender, age,duration of visit, physician's diagnosis, symptoms, medication, etc).*\n",
        "\n"
      ],
      "metadata": {
        "id": "NIC9_eQ786_i"
      }
    },
    {
      "cell_type": "markdown",
      "source": [
        "**Classification**(as an example) \\\n",
        "Task: Diagnose whether a patient has a disease.\\\n",
        "Row: Patient \\\n",
        "Column: Patient's demographic and hospital visit information (e.g., symptoms), along with a class attribute that indicates whether the patient has the disease.\n"
      ],
      "metadata": {
        "id": "gNVQwKe39_MO"
      }
    },
    {
      "cell_type": "markdown",
      "source": [],
      "metadata": {
        "id": "G6zZWYXbNYe1"
      }
    },
    {
      "cell_type": "markdown",
      "source": [
        "## Submission\n",
        "Save the notebook as pdf and turn it to the blackboard."
      ],
      "metadata": {
        "id": "ZFyib4ouNGEJ"
      }
    },
    {
      "cell_type": "code",
      "source": [
        "!apt-get install texlive texlive-xetex texlive-latex-extra pandoc\n",
        "!pip install pypandoc"
      ],
      "metadata": {
        "id": "F9QulZOV96Qj"
      },
      "execution_count": null,
      "outputs": []
    },
    {
      "cell_type": "code",
      "source": [
        "!jupyter nbconvert  '/content/drive/MyDrive/datamining/module-0.ipynb' --to pdf"
      ],
      "metadata": {
        "id": "Z39jM4DZ8JvB",
        "outputId": "6b6b75f0-1773-46dd-8b88-ba682e515ca0",
        "colab": {
          "base_uri": "https://localhost:8080/"
        }
      },
      "execution_count": 3,
      "outputs": [
        {
          "output_type": "stream",
          "name": "stdout",
          "text": [
            "[NbConvertApp] Converting notebook /content/drive/MyDrive/datamining/module-0.ipynb to pdf\n",
            "[NbConvertApp] Writing 21269 bytes to notebook.tex\n",
            "[NbConvertApp] Building PDF\n",
            "[NbConvertApp] Running xelatex 3 times: ['xelatex', 'notebook.tex', '-quiet']\n",
            "[NbConvertApp] Running bibtex 1 time: ['bibtex', 'notebook']\n",
            "[NbConvertApp] WARNING | bibtex had problems, most likely because there were no citations\n",
            "[NbConvertApp] PDF successfully created\n",
            "[NbConvertApp] Writing 24807 bytes to /content/drive/MyDrive/datamining/module-0.pdf\n"
          ]
        }
      ]
    },
    {
      "cell_type": "code",
      "source": [],
      "metadata": {
        "id": "3zyWHiu6N5Sa"
      },
      "execution_count": null,
      "outputs": []
    }
  ]
}