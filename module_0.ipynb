{
  "nbformat": 4,
  "nbformat_minor": 0,
  "metadata": {
    "colab": {
      "provenance": [],
      "authorship_tag": "ABX9TyMgkPc70dwptzGEUx0nigwl",
      "include_colab_link": true
    },
    "kernelspec": {
      "name": "python3",
      "display_name": "Python 3"
    },
    "language_info": {
      "name": "python"
    }
  },
  "cells": [
    {
      "cell_type": "markdown",
      "metadata": {
        "id": "view-in-github",
        "colab_type": "text"
      },
      "source": [
        "<a href=\"https://colab.research.google.com/github/adong-hood/dm-24/blob/main/module_0.ipynb\" target=\"_parent\"><img src=\"https://colab.research.google.com/assets/colab-badge.svg\" alt=\"Open In Colab\"/></a>"
      ]
    },
    {
      "cell_type": "markdown",
      "source": [],
      "metadata": {
        "id": "3oo5kePm9X8X"
      }
    },
    {
      "cell_type": "markdown",
      "source": [
        "## Gettinng started"
      ],
      "metadata": {
        "id": "gFWT7qKj8CKy"
      }
    },
    {
      "cell_type": "markdown",
      "source": [
        "### 1. What do you want to get out of this class?\n",
        "\n",
        "\n",
        "\n"
      ],
      "metadata": {
        "id": "AMoF-fZK8MD1"
      }
    },
    {
      "cell_type": "markdown",
      "source": [],
      "metadata": {
        "id": "Kn_zEonl-5-z"
      }
    },
    {
      "cell_type": "markdown",
      "source": [
        "### 2. After the lecture, reflect what your goals are for this class."
      ],
      "metadata": {
        "id": "J1EMjuUC8Zwo"
      }
    },
    {
      "cell_type": "markdown",
      "source": [],
      "metadata": {
        "id": "mBCKMGm0-5oV"
      }
    },
    {
      "cell_type": "markdown",
      "source": [
        "### 3. Answer this question.\n",
        "<p>For the data set given/described below, give specific examples of classification, clustering, association rule mining, and anomaly detection tasks that can be performed on the data. For each task, state how the data matrix should be constructed (i.e., specify the rows and columns of the matrix).</p>\n",
        "\n",
        "*Ambulatory Medical Care data, which contains the demographic and medical visit information for each patient (e.g., gender, age,duration of visit, physician's diagnosis, symptoms, medication, etc).*\n",
        "\n"
      ],
      "metadata": {
        "id": "NIC9_eQ786_i"
      }
    },
    {
      "cell_type": "markdown",
      "source": [
        "**Classification**(as an example) \\\n",
        "Task: Diagnose whether a patient has a disease.\\\n",
        "Row: Patient \\\n",
        "Column: Patient's demographic and hospital visit information (e.g., symptoms), along with a class attribute that indicates whether the patient has the disease.\n"
      ],
      "metadata": {
        "id": "gNVQwKe39_MO"
      }
    },
    {
      "cell_type": "code",
      "source": [
        "\n",
        "\n"
      ],
      "metadata": {
        "id": "F9QulZOV96Qj"
      },
      "execution_count": null,
      "outputs": []
    },
    {
      "cell_type": "code",
      "source": [],
      "metadata": {
        "id": "Z39jM4DZ8JvB"
      },
      "execution_count": null,
      "outputs": []
    }
  ]
}