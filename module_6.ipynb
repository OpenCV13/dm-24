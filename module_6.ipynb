{
  "cells": [
    {
      "cell_type": "markdown",
      "metadata": {
        "id": "view-in-github",
        "colab_type": "text"
      },
      "source": [
        "<a href=\"https://colab.research.google.com/github/adong-hood/dm-24/blob/main/module_6.ipynb\" target=\"_parent\"><img src=\"https://colab.research.google.com/assets/colab-badge.svg\" alt=\"Open In Colab\"/></a>"
      ]
    },
    {
      "cell_type": "markdown",
      "metadata": {
        "id": "Q2fwaoWdFsEL"
      },
      "source": [
        "# Module 6: Classification\n",
        "\n",
        "The following tutorial contains Python examples for solving classification problems. You should refer to the Chapters 3 and 4 of the \"Introduction to Data Mining\" book to understand some of the concepts introduced in this tutorial. The notebook can be downloaded from http://www.cse.msu.edu/~ptan/dmbook/tutorials/tutorial6/tutorial6.ipynb.\n",
        "\n",
        "Classification is the task of predicting a nominal-valued attribute (known as class label) based on the values of other attributes (known as predictor variables). The goals for this tutorial are as follows:\n",
        "1. To provide examples of using different classification techniques from the scikit-learn library package.\n",
        "2. To demonstrate the problem of model overfitting.\n",
        "\n",
        "Read the step-by-step instructions below carefully. To execute the code, click on the corresponding cell and press the SHIFT-ENTER keys simultaneously.\n"
      ]
    },
    {
      "cell_type": "code",
      "source": [
        "import pandas as pd\n",
        "from sklearn import tree\n",
        "from sklearn.metrics import accuracy_score\n",
        "import numpy as np\n",
        "import matplotlib.pyplot as plt\n",
        "from numpy.random import random\n",
        "from sklearn.model_selection import train_test_split\n",
        "from sklearn.model_selection import cross_val_score\n",
        "\n",
        "\n",
        "%matplotlib inline"
      ],
      "metadata": {
        "id": "xHhjik1EodjQ"
      },
      "execution_count": 1,
      "outputs": []
    },
    {
      "cell_type": "markdown",
      "metadata": {
        "id": "4ome5scnFsEP"
      },
      "source": [
        "## 6.1 Vertebrate Dataset\n",
        "\n",
        "We use a variation of the vertebrate data described in Example 3.1 of Chapter 3. Each vertebrate is classified into one of 5 categories: mammals, reptiles, birds, fishes, and amphibians, based on a set of explanatory attributes (predictor variables). Except for \"name\", the rest of the attributes have been converted into a *one hot encoding* binary representation. To illustrate this, we will first load the data into a Pandas DataFrame object and display its content."
      ]
    },
    {
      "cell_type": "code",
      "execution_count": null,
      "metadata": {
        "id": "xoVAZSBDFsEQ"
      },
      "outputs": [],
      "source": [
        "data = pd.read_csv('http://pluto.hood.edu/~dong/datasets/vertebrate.csv',header='infer')\n",
        "data.head()"
      ]
    },
    {
      "cell_type": "markdown",
      "metadata": {
        "id": "a9gI3597FsES"
      },
      "source": [
        "Given the limited number of training examples, suppose we convert the problem into a binary classification task (mammals versus non-mammals). We can do so by replacing the class labels of the instances to *non-mammals* except for those that belong to the *mammals* class."
      ]
    },
    {
      "cell_type": "code",
      "execution_count": null,
      "metadata": {
        "id": "srGpl98MFsES"
      },
      "outputs": [],
      "source": [
        "data['Class'] = data['Class'].replace(['fishes','birds','amphibians','reptiles'],'non-mammals')\n",
        "data.head()"
      ]
    },
    {
      "cell_type": "markdown",
      "metadata": {
        "id": "ugWfpMuUFsET"
      },
      "source": [
        "We can apply Pandas cross-tabulation to examine the relationship between the Warm-blooded and Gives Birth attributes with respect to the class."
      ]
    },
    {
      "cell_type": "code",
      "execution_count": null,
      "metadata": {
        "id": "YN_YS6SdFsET"
      },
      "outputs": [],
      "source": [
        "pd.crosstab([data['Warm-blooded'],data['Gives Birth']],data['Class'])"
      ]
    },
    {
      "cell_type": "markdown",
      "metadata": {
        "id": "IDfLX1CaFsET"
      },
      "source": [
        "The results above show that it is possible to distinguish mammals from non-mammals using these two attributes alone since each combination of their attribute values would yield only instances that belong to the same class. For example, mammals can be identified as warm-blooded vertebrates that give birth to their young. Such a relationship can also be derived using a decision tree classifier, as shown by the example given in the next subsection."
      ]
    },
    {
      "cell_type": "markdown",
      "metadata": {
        "id": "cmDVlqXAFsEU"
      },
      "source": [
        "## 6.2 Decision Tree Classifier\n",
        "\n",
        "In this section, we apply a decision tree classifier to the vertebrate dataset described in the previous subsection."
      ]
    },
    {
      "cell_type": "code",
      "execution_count": null,
      "metadata": {
        "id": "bSRKPeNLFsEU"
      },
      "outputs": [],
      "source": [
        "\n",
        "\n",
        "Y = data['Class']\n",
        "X = data.drop(['Name','Class'],axis=1)\n",
        "\n",
        "clf = tree.DecisionTreeClassifier(criterion='entropy',max_depth=3)\n",
        "clf = clf.fit(X, Y)"
      ]
    },
    {
      "cell_type": "markdown",
      "metadata": {
        "id": "F-4z_rSwFsEV"
      },
      "source": [
        "The preceding commands will extract the predictor (X) and target class (Y) attributes from the vertebrate dataset and create a decision tree classifier object using entropy as its impurity measure for splitting criterion. The decision tree class in Python sklearn library also supports using 'gini' as impurity measure. The classifier above is also constrained to generate trees with a maximum depth equals to 3. Next, the classifier is trained on the labeled data using the fit() function.\n",
        "\n",
        "We can plot the resulting decision tree obtained after training the classifier. To do this, you must first install both graphviz (http://www.graphviz.org) and its Python interface called pydotplus (http://pydotplus.readthedocs.io/)."
      ]
    },
    {
      "cell_type": "code",
      "execution_count": null,
      "metadata": {
        "id": "UCf2fYgdFsEV"
      },
      "outputs": [],
      "source": [
        "import pydotplus\n",
        "from IPython.display import Image\n",
        "\n",
        "dot_data = tree.export_graphviz(clf, feature_names=X.columns, class_names=['mammals','non-mammals'], filled=True,\n",
        "                                out_file=None)\n",
        "graph = pydotplus.graph_from_dot_data(dot_data)\n",
        "Image(graph.create_png())"
      ]
    },
    {
      "cell_type": "markdown",
      "metadata": {
        "id": "nKs5PF10FsEV"
      },
      "source": [
        "Next, suppose we apply the decision tree to classify the following test examples."
      ]
    },
    {
      "cell_type": "code",
      "execution_count": null,
      "metadata": {
        "id": "E_AmO9kEFsEW"
      },
      "outputs": [],
      "source": [
        "testData = [['gila monster',0,0,0,0,1,1,'non-mammals'],\n",
        "           ['platypus',1,0,0,0,1,1,'mammals'],\n",
        "           ['owl',1,0,0,1,1,0,'non-mammals'],\n",
        "           ['dolphin',1,1,1,0,0,0,'mammals']]\n",
        "testData = pd.DataFrame(testData, columns=data.columns)\n",
        "testData"
      ]
    },
    {
      "cell_type": "markdown",
      "metadata": {
        "id": "ZH7uD00BFsEW"
      },
      "source": [
        "We first extract the predictor and target class attributes from the test data and then apply the decision tree classifier to predict their classes."
      ]
    },
    {
      "cell_type": "code",
      "execution_count": null,
      "metadata": {
        "id": "a9xxg6kXFsEX"
      },
      "outputs": [],
      "source": [
        "testY = testData['Class']\n",
        "testX = testData.drop(['Name','Class'],axis=1)\n",
        "\n",
        "predY = clf.predict(testX)\n",
        "predictions = pd.concat([testData['Name'],pd.Series(predY,name='Predicted Class')], axis=1)\n",
        "predictions"
      ]
    },
    {
      "cell_type": "markdown",
      "metadata": {
        "id": "qu5Y6swUFsEX"
      },
      "source": [
        "Except for platypus, which is an egg-laying mammal, the classifier correctly predicts the class label of the test examples. We can calculate the accuracy of the classifier on the test data as shown by the example given below."
      ]
    },
    {
      "cell_type": "code",
      "execution_count": null,
      "metadata": {
        "colab": {
          "base_uri": "https://localhost:8080/"
        },
        "id": "fDF9KyuJFsEX",
        "outputId": "9f01cdf8-92f4-446d-a206-4501896d46a7"
      },
      "outputs": [
        {
          "output_type": "stream",
          "name": "stdout",
          "text": [
            "Accuracy on test data is 0.75\n"
          ]
        }
      ],
      "source": [
        "print('Accuracy on test data is %.2f' % (accuracy_score(testY, predY)))"
      ]
    },
    {
      "cell_type": "markdown",
      "metadata": {
        "id": "jTFfiLJXFsEY"
      },
      "source": [
        "## 6.3 Model Overfitting\n",
        "\n",
        "To illustrate the problem of model overfitting, we consider a two-dimensional dataset containing 1500 labeled instances, each of which is assigned to one of two classes, 0 or 1. Instances from each class are generated as follows:\n",
        "1. Instances from class 1 are generated from a mixture of 3 Gaussian distributions, centered at [6,14], [10,6], and [14 14], respectively.\n",
        "2. Instances from class 0 are generated from a uniform distribution in a square region, whose sides have a length equals to 20.\n",
        "\n",
        "For simplicity, both classes have equal number of labeled instances. The code for generating and plotting the data is shown below. All instances from class 1 are shown in red while those from class 0 are shown in black."
      ]
    },
    {
      "cell_type": "code",
      "execution_count": null,
      "metadata": {
        "id": "tPYnLElSFsEY"
      },
      "outputs": [],
      "source": [
        "\n",
        "N = 1500\n",
        "\n",
        "mean1 = [6, 14]\n",
        "mean2 = [10, 6]\n",
        "mean3 = [14, 14]\n",
        "cov = [[3.5, 0], [0, 3.5]]  # diagonal covariance\n",
        "\n",
        "np.random.seed(50)\n",
        "X = np.random.multivariate_normal(mean1, cov, int(N/6))\n",
        "X = np.concatenate((X, np.random.multivariate_normal(mean2, cov, int(N/6))))\n",
        "X = np.concatenate((X, np.random.multivariate_normal(mean3, cov, int(N/6))))\n",
        "X = np.concatenate((X, 20*np.random.rand(int(N/2),2)))\n",
        "Y = np.concatenate((np.ones(int(N/2)),np.zeros(int(N/2))))\n",
        "\n",
        "plt.plot(X[:int(N/2),0],X[:int(N/2),1],'r+',X[int(N/2):,0],X[int(N/2):,1],'k.',ms=4)"
      ]
    },
    {
      "cell_type": "markdown",
      "metadata": {
        "id": "ZEPr_6X8FsEY"
      },
      "source": [
        "In this example, we reserve 80% of the labeled data for training and the remaining 20% for testing. We then fit decision trees of different maximum depths (from 2 to 50) to the training set and plot their respective accuracies when applied to the training and test sets."
      ]
    },
    {
      "cell_type": "code",
      "execution_count": null,
      "metadata": {
        "id": "bXInEDjkFsEZ"
      },
      "outputs": [],
      "source": [
        "#########################################\n",
        "# Training and Test set creation\n",
        "#########################################\n",
        "\n",
        "X_train, X_test, Y_train, Y_test = train_test_split(X, Y, test_size=0.8, random_state=1)\n",
        "\n",
        "\n",
        "#########################################\n",
        "# Model fitting and evaluation\n",
        "#########################################\n",
        "\n",
        "maxdepths = [2,3,4,5,6,7,8,9,10,15,20,25,30,35,40,45,50]\n",
        "\n",
        "trainAcc = np.zeros(len(maxdepths))\n",
        "testAcc = np.zeros(len(maxdepths))\n",
        "\n",
        "index = 0\n",
        "for depth in maxdepths:\n",
        "    clf = tree.DecisionTreeClassifier(max_depth=depth)\n",
        "    clf = clf.fit(X_train, Y_train)\n",
        "    Y_predTrain = clf.predict(X_train)\n",
        "    Y_predTest = clf.predict(X_test)\n",
        "    trainAcc[index] = accuracy_score(Y_train, Y_predTrain)\n",
        "    testAcc[index] = accuracy_score(Y_test, Y_predTest)\n",
        "    index += 1\n",
        "\n",
        "#########################################\n",
        "# Plot of training and test accuracies\n",
        "#########################################\n",
        "\n",
        "plt.plot(maxdepths,trainAcc,'ro-',maxdepths,testAcc,'bv--')\n",
        "plt.legend(['Training Accuracy','Test Accuracy'])\n",
        "plt.xlabel('Max depth')\n",
        "plt.ylabel('Accuracy')"
      ]
    },
    {
      "cell_type": "markdown",
      "metadata": {
        "id": "6BfarMcPFsEZ"
      },
      "source": [
        "The plot above shows that training accuracy will continue to improve as the maximum depth of the tree increases (i.e., as the model becomes more complex). However, the test accuracy initially improves up to a maximum depth of 5, before it gradually decreases due to model overfitting."
      ]
    },
    {
      "cell_type": "markdown",
      "metadata": {
        "id": "lNgop3EHFsEZ"
      },
      "source": [
        "## 6.4 Alternative Classification Techniques\n",
        "\n",
        "Besides decision tree classifier, the Python sklearn library also supports other classification techniques. In this section, we provide examples to illustrate how to apply the k-nearest neighbor classifier, linear classifiers (logistic regression and support vector machine), as well as ensemble methods (boosting, bagging, and random forest) to the 2-dimensional data given in the previous section."
      ]
    },
    {
      "cell_type": "markdown",
      "metadata": {
        "id": "VQ0hHNNnFsEc"
      },
      "source": [
        "### 6.4.4 Ensemble Methods\n",
        "\n",
        "An ensemble classifier constructs a set of base classifiers from the training data and performs classification by taking a vote on the predictions made by each base classifier. We consider 3 types of ensemble classifiers in this example: bagging, boosting, and random forest. Detailed explanation about these classifiers can be found in Section 4.10 of the book.\n",
        "\n",
        "In the example below, we fit 500 base classifiers to the 2-dimensional dataset using each ensemble method. The base classifier corresponds to a decision tree with maximum depth equals to 10."
      ]
    },
    {
      "cell_type": "code",
      "source": [
        "data = pd.read_csv('https://archive.ics.uci.edu/ml/machine-learning-databases/breast-cancer-wisconsin/breast-cancer-wisconsin.data', header=None)\n",
        "data.columns = ['Sample code', 'Clump Thickness', 'Uniformity of Cell Size', 'Uniformity of Cell Shape',\n",
        "                'Marginal Adhesion', 'Single Epithelial Cell Size', 'Bare Nuclei', 'Bland Chromatin',\n",
        "                'Normal Nucleoli', 'Mitoses','Class']\n",
        "\n",
        "data = data.drop(['Sample code'],axis=1)\n",
        "print('Number of instances = %d' % (data.shape[0]))\n",
        "print('Number of attributes = %d' % (data.shape[1]))\n",
        "data.head()"
      ],
      "metadata": {
        "id": "20oPXUjSSJln"
      },
      "execution_count": null,
      "outputs": []
    },
    {
      "cell_type": "code",
      "source": [
        "data = data.replace('?',np.NaN)\n",
        "data.fillna(data.median(), inplace=True)\n",
        "\n",
        "\n",
        "Y = data['Class']\n",
        "X = data.drop(['Class'],axis=1)\n",
        "\n",
        "#########################################\n",
        "# Training and Test set creation\n",
        "#########################################\n",
        "\n",
        "X_train, X_test, Y_train, Y_test = train_test_split(X, Y, test_size=0.2, random_state=1)"
      ],
      "metadata": {
        "id": "h2szgCXpSQhI"
      },
      "execution_count": 3,
      "outputs": []
    },
    {
      "cell_type": "code",
      "execution_count": null,
      "metadata": {
        "id": "2mPg5jzEFsEc"
      },
      "outputs": [],
      "source": [
        "## You could create a function here for  using multiple algorithms.\n",
        "from sklearn import ensemble\n",
        "from sklearn.tree import DecisionTreeClassifier\n",
        "\n",
        "numBaseClassifiers = 100\n",
        "maxdepth = 10\n",
        "trainAcc = []\n",
        "testAcc = []\n",
        "\n",
        "clf = ensemble.RandomForestClassifier(n_estimators=numBaseClassifiers)\n",
        "clf.fit(X_train, Y_train)\n",
        "Y_predTrain = clf.predict(X_train)\n",
        "Y_predTest = clf.predict(X_test)\n",
        "trainAcc.append(accuracy_score(Y_train, Y_predTrain))\n",
        "testAcc.append(accuracy_score(Y_test, Y_predTest))\n",
        "\n",
        "clf = ensemble.BaggingClassifier(DecisionTreeClassifier(max_depth=maxdepth),n_estimators=numBaseClassifiers)\n",
        "clf.fit(X_train, Y_train)\n",
        "Y_predTrain = clf.predict(X_train)\n",
        "Y_predTest = clf.predict(X_test)\n",
        "trainAcc.append(accuracy_score(Y_train, Y_predTrain))\n",
        "testAcc.append(accuracy_score(Y_test, Y_predTest))\n",
        "\n",
        "clf = ensemble.AdaBoostClassifier(DecisionTreeClassifier(max_depth=maxdepth),n_estimators=numBaseClassifiers, algorithm='SAMME')\n",
        "clf.fit(X_train, Y_train)\n",
        "Y_predTrain = clf.predict(X_train)\n",
        "Y_predTest = clf.predict(X_test)\n",
        "trainAcc.append(accuracy_score(Y_train, Y_predTrain))\n",
        "testAcc.append(accuracy_score(Y_test, Y_predTest))\n",
        "\n",
        "print(\"Results\\n\")\n",
        "print('Random Forest Train = %.2f; Test = %.2f'%(trainAcc[0],testAcc[0]))\n",
        "print('Bagging Train = %.2f; Test = %.2f' %(trainAcc[1],testAcc[1]))\n",
        "print('AdaBoost Train = %.2f; Test = %.2f\\n' %(trainAcc[2],testAcc[2]))\n",
        "\n",
        "\n",
        "methods = ['Random Forest', 'Bagging', 'AdaBoost']\n",
        "fig, (ax1, ax2) = plt.subplots(1, 2, figsize=(12,6))\n",
        "ax1.bar([1.5,2.5,3.5], trainAcc)\n",
        "ax1.set_xticks([1.5,2.5,3.5])\n",
        "ax1.set_xticklabels(methods)\n",
        "ax1.set_title('Training Accuracy')\n",
        "ax1.set_ylabel('Accuracy')\n",
        "\n",
        "ax2.bar([1.5,2.5,3.5], testAcc)\n",
        "ax2.set_xticks([1.5,2.5,3.5])\n",
        "ax2.set_xticklabels(methods)\n",
        "ax2.set_title('Testing Accuracy')\n",
        "\n",
        "plt.tight_layout()\n",
        "plt.show()"
      ]
    },
    {
      "cell_type": "code",
      "source": [
        "# this shows a simple majority voting.\n",
        "from sklearn.ensemble import VotingClassifier\n",
        "from sklearn.ensemble import RandomForestClassifier\n",
        "from sklearn.linear_model import LogisticRegression\n",
        "from sklearn.svm import SVC\n",
        "\n",
        "log_clf = LogisticRegression(random_state=42)\n",
        "rnd_clf = RandomForestClassifier(random_state=42)\n",
        "svm_clf = SVC(random_state=42)\n",
        "voting_clf = VotingClassifier(estimators=[('lr', log_clf), ('rf', rnd_clf), ('svc', svm_clf)], voting='hard')\n",
        "voting_clf.fit(X_train, Y_train)\n",
        "for clf in (log_clf, rnd_clf, svm_clf, voting_clf):\n",
        " clf.fit(X_train, Y_train)\n",
        " y_pred = clf.predict(X_test)\n",
        " print(clf.__class__.__name__, accuracy_score(Y_test, y_pred))"
      ],
      "metadata": {
        "id": "SXrOedBREADh"
      },
      "execution_count": null,
      "outputs": []
    },
    {
      "cell_type": "markdown",
      "metadata": {
        "id": "ERM4Y5k9FsEa"
      },
      "source": [
        "### 6.4.1 K-Nearest neighbor classifier\n",
        "\n",
        "In this approach, the class label of a test instance is predicted based on the majority class of its *k* closest training instances. The number of nearest neighbors, *k*, is a hyperparameter that must be provided by the user, along with the distance metric. By default, we can use Euclidean distance (which is equivalent to Minkowski distance with an exponent factor equals to p=2):\n",
        "\n",
        "\\begin{equation*}\n",
        "\\textrm{Minkowski distance}(x,y) = \\bigg[\\sum_{i=1}^N |x_i-y_i|^p \\bigg]^{\\frac{1}{p}}\n",
        "\\end{equation*}"
      ]
    },
    {
      "cell_type": "code",
      "execution_count": null,
      "metadata": {
        "id": "_PZ5i4JuFsEa"
      },
      "outputs": [],
      "source": [
        "from sklearn.neighbors import KNeighborsClassifier\n",
        "\n",
        "\n",
        "numNeighbors = [1, 2, 3, 4, 5, 10, 15, 20, 25, 30]\n",
        "trainAcc = []\n",
        "testAcc = []\n",
        "\n",
        "for k in numNeighbors:\n",
        "    clf = KNeighborsClassifier(n_neighbors=k, metric='minkowski', p=2)\n",
        "    clf.fit(X_train, Y_train)\n",
        "    Y_predTrain = clf.predict(X_train)\n",
        "    Y_predTest = clf.predict(X_test)\n",
        "    trainAcc.append(accuracy_score(Y_train, Y_predTrain))\n",
        "    testAcc.append(accuracy_score(Y_test, Y_predTest))\n",
        "\n",
        "plt.plot(numNeighbors, trainAcc, 'ro-', numNeighbors, testAcc,'bv--')\n",
        "plt.legend(['Training Accuracy','Test Accuracy'])\n",
        "plt.xlabel('Number of neighbors')\n",
        "plt.ylabel('Accuracy')"
      ]
    },
    {
      "cell_type": "markdown",
      "metadata": {
        "id": "6Xk-lcnPFsEa"
      },
      "source": [
        "### 6.4.2 Linear Classifiers\n",
        "\n",
        "Linear classifiers such as logistic regression and support vector machine (SVM) constructs a linear separating hyperplane to distinguish instances from different classes.\n",
        "\n",
        "For logistic regression, the model can be described by the following equation:\n",
        "\\begin{equation*}\n",
        "P(y=1|x) = \\frac{1}{1 + \\exp^{-w^Tx - b}} = \\sigma(w^Tx + b)\n",
        "\\end{equation*}\n",
        "The model parameters (w,b) are estimated by optimizing the following regularized negative log-likelihood function:\n",
        "\\begin{equation*}\n",
        "(w^*,b^*) = \\arg\\min_{w,b} - \\sum_{i=1}^N y_i \\log\\bigg[\\sigma(w^Tx_i + b)\\bigg] + (1-y_i) \\log\\bigg[\\sigma(-w^Tx_i - b)\\bigg] + \\frac{1}{C} \\Omega([w,b])\n",
        "\\end{equation*}\n",
        "where $C$ is a hyperparameter that controls the inverse of model complexity (smaller values imply stronger regularization) while $\\Omega(\\cdot)$ is the regularization term, which by default, is assumed to be an $l_2$-norm in sklearn.\n",
        "\n",
        "For support vector machine, the model parameters $(w^*,b^*)$ are estimated by solving the following constrained optimization problem:\n",
        "\\begin{eqnarray*}\n",
        "&&\\min_{w^*,b^*,\\{\\xi_i\\}} \\frac{\\|w\\|^2}{2} + \\frac{1}{C} \\sum_i \\xi_i \\\\\n",
        "\\textrm{s.t.} && \\forall i: y_i\\bigg[w^T \\phi(x_i) + b\\bigg] \\ge 1 - \\xi_i, \\ \\ \\xi_i \\ge 0  \n",
        "\\end{eqnarray*}"
      ]
    },
    {
      "cell_type": "code",
      "execution_count": null,
      "metadata": {
        "id": "FnFyxdQbFsEb"
      },
      "outputs": [],
      "source": [
        "from sklearn import linear_model\n",
        "from sklearn.svm import SVC\n",
        "\n",
        "C = [0.01, 0.1, 0.2, 0.5, 0.8, 1, 5, 10, 20, 50]\n",
        "LRtrainAcc = []\n",
        "LRtestAcc = []\n",
        "SVMtrainAcc = []\n",
        "SVMtestAcc = []\n",
        "\n",
        "for param in C:\n",
        "    clf = linear_model.LogisticRegression(C=param)\n",
        "    clf.fit(X_train, Y_train)\n",
        "    Y_predTrain = clf.predict(X_train)\n",
        "    Y_predTest = clf.predict(X_test)\n",
        "    LRtrainAcc.append(accuracy_score(Y_train, Y_predTrain))\n",
        "    LRtestAcc.append(accuracy_score(Y_test, Y_predTest))\n",
        "\n",
        "    clf = SVC(C=param,kernel='linear')\n",
        "    clf.fit(X_train, Y_train)\n",
        "    Y_predTrain = clf.predict(X_train)\n",
        "    Y_predTest = clf.predict(X_test)\n",
        "    SVMtrainAcc.append(accuracy_score(Y_train, Y_predTrain))\n",
        "    SVMtestAcc.append(accuracy_score(Y_test, Y_predTest))\n",
        "\n",
        "fig, (ax1, ax2) = plt.subplots(1, 2, figsize=(12,6))\n",
        "ax1.plot(C, LRtrainAcc, 'ro-', C, LRtestAcc,'bv--')\n",
        "ax1.legend(['Training Accuracy','Test Accuracy'])\n",
        "ax1.set_xlabel('C')\n",
        "ax1.set_xscale('log')\n",
        "ax1.set_ylabel('Accuracy')\n",
        "\n",
        "ax2.plot(C, SVMtrainAcc, 'ro-', C, SVMtestAcc,'bv--')\n",
        "ax2.legend(['Training Accuracy','Test Accuracy'])\n",
        "ax2.set_xlabel('C')\n",
        "ax2.set_xscale('log')\n",
        "ax2.set_ylabel('Accuracy')"
      ]
    },
    {
      "cell_type": "code",
      "source": [
        "# use grid search for model hyperparameter.\n",
        "from sklearn.model_selection import GridSearchCV\n",
        "\n",
        "params = {'C': [0.01, 0.1, 0.2, 0.5, 0.8, 1, 5, 10, 20, 50]}\n",
        "grid = GridSearchCV(linear_model.LogisticRegression(), params, cv = 5)\n",
        "grid.fit(X_train, Y_train)\n",
        "\n",
        "for param, score in zip(grid.cv_results_['params'], grid.cv_results_['mean_test_score']):\n",
        "  print(param, score)\n",
        "\n",
        "print(\"Best cross-validation accuracy: {:.2f}\".format(grid.best_score_))\n",
        "print(\"Best set score: {:.2f}\".format(grid.score(X_test, Y_test)))\n",
        "print(\"Best parameters: \", grid.best_params_)"
      ],
      "metadata": {
        "id": "XtrDQ4l2nbCu"
      },
      "execution_count": null,
      "outputs": []
    },
    {
      "cell_type": "markdown",
      "metadata": {
        "id": "MUjYHS7kFsEb"
      },
      "source": [
        "Note that linear classifiers perform poorly on the data since the true decision boundaries between classes are nonlinear for the given 2-dimensional dataset."
      ]
    },
    {
      "cell_type": "markdown",
      "metadata": {
        "id": "ybZ2LS80FsEb"
      },
      "source": [
        "### 6.4.3 Nonlinear Support Vector Machine\n",
        "\n",
        "The code below shows an example of using nonlinear support vector machine with a Gaussian radial basis function kernel to fit the 2-dimensional dataset."
      ]
    },
    {
      "cell_type": "code",
      "execution_count": null,
      "metadata": {
        "id": "sVuB9tI0FsEb"
      },
      "outputs": [],
      "source": [
        "from sklearn.svm import SVC\n",
        "\n",
        "C = [0.01, 0.1, 0.2, 0.5, 0.8, 1, 5, 10, 20, 50]\n",
        "SVMtrainAcc = []\n",
        "SVMtestAcc = []\n",
        "\n",
        "for param in C:\n",
        "    clf = SVC(C=param,kernel='rbf',gamma='auto')\n",
        "    clf.fit(X_train, Y_train)\n",
        "    Y_predTrain = clf.predict(X_train)\n",
        "    Y_predTest = clf.predict(X_test)\n",
        "    SVMtrainAcc.append(accuracy_score(Y_train, Y_predTrain))\n",
        "    SVMtestAcc.append(accuracy_score(Y_test, Y_predTest))\n",
        "\n",
        "plt.plot(C, SVMtrainAcc, 'ro-', C, SVMtestAcc,'bv--')\n",
        "plt.legend(['Training Accuracy','Test Accuracy'])\n",
        "plt.xlabel('C')\n",
        "plt.xscale('log')\n",
        "plt.ylabel('Accuracy')"
      ]
    },
    {
      "cell_type": "markdown",
      "metadata": {
        "id": "Yb9A4-pbFsEc"
      },
      "source": [
        "Observe that the nonlinear SVM can achieve a higher test accuracy compared to linear SVM."
      ]
    },
    {
      "cell_type": "markdown",
      "metadata": {
        "id": "RnSuVZEGFsEd"
      },
      "source": [
        "## 3.5 Summary\n",
        "\n",
        "This section provides several examples of using Python sklearn library to build classification models from a given input data. We also illustrate the problem of model overfitting and show how to apply different classification methods to the given dataset."
      ]
    },
    {
      "cell_type": "code",
      "source": [
        "!pip install ucimlrepo"
      ],
      "metadata": {
        "id": "P7T83MI7pohk"
      },
      "execution_count": null,
      "outputs": []
    },
    {
      "cell_type": "code",
      "source": [
        "from ucimlrepo import fetch_ucirepo\n",
        "\n",
        "# fetch dataset\n",
        "iris = fetch_ucirepo(id=53)\n",
        "\n",
        "# data (as pandas dataframes)\n",
        "X = iris.data.features\n",
        "y = iris.data.targets\n",
        "\n",
        "# variable information\n",
        "print(iris.variables)\n"
      ],
      "metadata": {
        "id": "Mg4FbpLpyTGj"
      },
      "execution_count": null,
      "outputs": []
    },
    {
      "cell_type": "code",
      "source": [
        "X.head()"
      ],
      "metadata": {
        "id": "vJ2hJNz_ydey"
      },
      "execution_count": null,
      "outputs": []
    },
    {
      "cell_type": "code",
      "source": [
        "y.head()"
      ],
      "metadata": {
        "colab": {
          "base_uri": "https://localhost:8080/",
          "height": 206
        },
        "id": "D3TryRuAyjvK",
        "outputId": "bce9dd74-6656-4186-d2bb-e3934eef9cc7"
      },
      "execution_count": null,
      "outputs": [
        {
          "output_type": "execute_result",
          "data": {
            "text/plain": [
              "         class\n",
              "0  Iris-setosa\n",
              "1  Iris-setosa\n",
              "2  Iris-setosa\n",
              "3  Iris-setosa\n",
              "4  Iris-setosa"
            ],
            "text/html": [
              "\n",
              "  <div id=\"df-6bfd36d6-fd43-45cc-bc10-2d8fd6a34a7e\" class=\"colab-df-container\">\n",
              "    <div>\n",
              "<style scoped>\n",
              "    .dataframe tbody tr th:only-of-type {\n",
              "        vertical-align: middle;\n",
              "    }\n",
              "\n",
              "    .dataframe tbody tr th {\n",
              "        vertical-align: top;\n",
              "    }\n",
              "\n",
              "    .dataframe thead th {\n",
              "        text-align: right;\n",
              "    }\n",
              "</style>\n",
              "<table border=\"1\" class=\"dataframe\">\n",
              "  <thead>\n",
              "    <tr style=\"text-align: right;\">\n",
              "      <th></th>\n",
              "      <th>class</th>\n",
              "    </tr>\n",
              "  </thead>\n",
              "  <tbody>\n",
              "    <tr>\n",
              "      <th>0</th>\n",
              "      <td>Iris-setosa</td>\n",
              "    </tr>\n",
              "    <tr>\n",
              "      <th>1</th>\n",
              "      <td>Iris-setosa</td>\n",
              "    </tr>\n",
              "    <tr>\n",
              "      <th>2</th>\n",
              "      <td>Iris-setosa</td>\n",
              "    </tr>\n",
              "    <tr>\n",
              "      <th>3</th>\n",
              "      <td>Iris-setosa</td>\n",
              "    </tr>\n",
              "    <tr>\n",
              "      <th>4</th>\n",
              "      <td>Iris-setosa</td>\n",
              "    </tr>\n",
              "  </tbody>\n",
              "</table>\n",
              "</div>\n",
              "    <div class=\"colab-df-buttons\">\n",
              "\n",
              "  <div class=\"colab-df-container\">\n",
              "    <button class=\"colab-df-convert\" onclick=\"convertToInteractive('df-6bfd36d6-fd43-45cc-bc10-2d8fd6a34a7e')\"\n",
              "            title=\"Convert this dataframe to an interactive table.\"\n",
              "            style=\"display:none;\">\n",
              "\n",
              "  <svg xmlns=\"http://www.w3.org/2000/svg\" height=\"24px\" viewBox=\"0 -960 960 960\">\n",
              "    <path d=\"M120-120v-720h720v720H120Zm60-500h600v-160H180v160Zm220 220h160v-160H400v160Zm0 220h160v-160H400v160ZM180-400h160v-160H180v160Zm440 0h160v-160H620v160ZM180-180h160v-160H180v160Zm440 0h160v-160H620v160Z\"/>\n",
              "  </svg>\n",
              "    </button>\n",
              "\n",
              "  <style>\n",
              "    .colab-df-container {\n",
              "      display:flex;\n",
              "      gap: 12px;\n",
              "    }\n",
              "\n",
              "    .colab-df-convert {\n",
              "      background-color: #E8F0FE;\n",
              "      border: none;\n",
              "      border-radius: 50%;\n",
              "      cursor: pointer;\n",
              "      display: none;\n",
              "      fill: #1967D2;\n",
              "      height: 32px;\n",
              "      padding: 0 0 0 0;\n",
              "      width: 32px;\n",
              "    }\n",
              "\n",
              "    .colab-df-convert:hover {\n",
              "      background-color: #E2EBFA;\n",
              "      box-shadow: 0px 1px 2px rgba(60, 64, 67, 0.3), 0px 1px 3px 1px rgba(60, 64, 67, 0.15);\n",
              "      fill: #174EA6;\n",
              "    }\n",
              "\n",
              "    .colab-df-buttons div {\n",
              "      margin-bottom: 4px;\n",
              "    }\n",
              "\n",
              "    [theme=dark] .colab-df-convert {\n",
              "      background-color: #3B4455;\n",
              "      fill: #D2E3FC;\n",
              "    }\n",
              "\n",
              "    [theme=dark] .colab-df-convert:hover {\n",
              "      background-color: #434B5C;\n",
              "      box-shadow: 0px 1px 3px 1px rgba(0, 0, 0, 0.15);\n",
              "      filter: drop-shadow(0px 1px 2px rgba(0, 0, 0, 0.3));\n",
              "      fill: #FFFFFF;\n",
              "    }\n",
              "  </style>\n",
              "\n",
              "    <script>\n",
              "      const buttonEl =\n",
              "        document.querySelector('#df-6bfd36d6-fd43-45cc-bc10-2d8fd6a34a7e button.colab-df-convert');\n",
              "      buttonEl.style.display =\n",
              "        google.colab.kernel.accessAllowed ? 'block' : 'none';\n",
              "\n",
              "      async function convertToInteractive(key) {\n",
              "        const element = document.querySelector('#df-6bfd36d6-fd43-45cc-bc10-2d8fd6a34a7e');\n",
              "        const dataTable =\n",
              "          await google.colab.kernel.invokeFunction('convertToInteractive',\n",
              "                                                    [key], {});\n",
              "        if (!dataTable) return;\n",
              "\n",
              "        const docLinkHtml = 'Like what you see? Visit the ' +\n",
              "          '<a target=\"_blank\" href=https://colab.research.google.com/notebooks/data_table.ipynb>data table notebook</a>'\n",
              "          + ' to learn more about interactive tables.';\n",
              "        element.innerHTML = '';\n",
              "        dataTable['output_type'] = 'display_data';\n",
              "        await google.colab.output.renderOutput(dataTable, element);\n",
              "        const docLink = document.createElement('div');\n",
              "        docLink.innerHTML = docLinkHtml;\n",
              "        element.appendChild(docLink);\n",
              "      }\n",
              "    </script>\n",
              "  </div>\n",
              "\n",
              "\n",
              "<div id=\"df-d9580d18-e24b-4feb-bcd8-b1b5fbd5451f\">\n",
              "  <button class=\"colab-df-quickchart\" onclick=\"quickchart('df-d9580d18-e24b-4feb-bcd8-b1b5fbd5451f')\"\n",
              "            title=\"Suggest charts.\"\n",
              "            style=\"display:none;\">\n",
              "\n",
              "<svg xmlns=\"http://www.w3.org/2000/svg\" height=\"24px\"viewBox=\"0 0 24 24\"\n",
              "     width=\"24px\">\n",
              "    <g>\n",
              "        <path d=\"M19 3H5c-1.1 0-2 .9-2 2v14c0 1.1.9 2 2 2h14c1.1 0 2-.9 2-2V5c0-1.1-.9-2-2-2zM9 17H7v-7h2v7zm4 0h-2V7h2v10zm4 0h-2v-4h2v4z\"/>\n",
              "    </g>\n",
              "</svg>\n",
              "  </button>\n",
              "\n",
              "<style>\n",
              "  .colab-df-quickchart {\n",
              "      --bg-color: #E8F0FE;\n",
              "      --fill-color: #1967D2;\n",
              "      --hover-bg-color: #E2EBFA;\n",
              "      --hover-fill-color: #174EA6;\n",
              "      --disabled-fill-color: #AAA;\n",
              "      --disabled-bg-color: #DDD;\n",
              "  }\n",
              "\n",
              "  [theme=dark] .colab-df-quickchart {\n",
              "      --bg-color: #3B4455;\n",
              "      --fill-color: #D2E3FC;\n",
              "      --hover-bg-color: #434B5C;\n",
              "      --hover-fill-color: #FFFFFF;\n",
              "      --disabled-bg-color: #3B4455;\n",
              "      --disabled-fill-color: #666;\n",
              "  }\n",
              "\n",
              "  .colab-df-quickchart {\n",
              "    background-color: var(--bg-color);\n",
              "    border: none;\n",
              "    border-radius: 50%;\n",
              "    cursor: pointer;\n",
              "    display: none;\n",
              "    fill: var(--fill-color);\n",
              "    height: 32px;\n",
              "    padding: 0;\n",
              "    width: 32px;\n",
              "  }\n",
              "\n",
              "  .colab-df-quickchart:hover {\n",
              "    background-color: var(--hover-bg-color);\n",
              "    box-shadow: 0 1px 2px rgba(60, 64, 67, 0.3), 0 1px 3px 1px rgba(60, 64, 67, 0.15);\n",
              "    fill: var(--button-hover-fill-color);\n",
              "  }\n",
              "\n",
              "  .colab-df-quickchart-complete:disabled,\n",
              "  .colab-df-quickchart-complete:disabled:hover {\n",
              "    background-color: var(--disabled-bg-color);\n",
              "    fill: var(--disabled-fill-color);\n",
              "    box-shadow: none;\n",
              "  }\n",
              "\n",
              "  .colab-df-spinner {\n",
              "    border: 2px solid var(--fill-color);\n",
              "    border-color: transparent;\n",
              "    border-bottom-color: var(--fill-color);\n",
              "    animation:\n",
              "      spin 1s steps(1) infinite;\n",
              "  }\n",
              "\n",
              "  @keyframes spin {\n",
              "    0% {\n",
              "      border-color: transparent;\n",
              "      border-bottom-color: var(--fill-color);\n",
              "      border-left-color: var(--fill-color);\n",
              "    }\n",
              "    20% {\n",
              "      border-color: transparent;\n",
              "      border-left-color: var(--fill-color);\n",
              "      border-top-color: var(--fill-color);\n",
              "    }\n",
              "    30% {\n",
              "      border-color: transparent;\n",
              "      border-left-color: var(--fill-color);\n",
              "      border-top-color: var(--fill-color);\n",
              "      border-right-color: var(--fill-color);\n",
              "    }\n",
              "    40% {\n",
              "      border-color: transparent;\n",
              "      border-right-color: var(--fill-color);\n",
              "      border-top-color: var(--fill-color);\n",
              "    }\n",
              "    60% {\n",
              "      border-color: transparent;\n",
              "      border-right-color: var(--fill-color);\n",
              "    }\n",
              "    80% {\n",
              "      border-color: transparent;\n",
              "      border-right-color: var(--fill-color);\n",
              "      border-bottom-color: var(--fill-color);\n",
              "    }\n",
              "    90% {\n",
              "      border-color: transparent;\n",
              "      border-bottom-color: var(--fill-color);\n",
              "    }\n",
              "  }\n",
              "</style>\n",
              "\n",
              "  <script>\n",
              "    async function quickchart(key) {\n",
              "      const quickchartButtonEl =\n",
              "        document.querySelector('#' + key + ' button');\n",
              "      quickchartButtonEl.disabled = true;  // To prevent multiple clicks.\n",
              "      quickchartButtonEl.classList.add('colab-df-spinner');\n",
              "      try {\n",
              "        const charts = await google.colab.kernel.invokeFunction(\n",
              "            'suggestCharts', [key], {});\n",
              "      } catch (error) {\n",
              "        console.error('Error during call to suggestCharts:', error);\n",
              "      }\n",
              "      quickchartButtonEl.classList.remove('colab-df-spinner');\n",
              "      quickchartButtonEl.classList.add('colab-df-quickchart-complete');\n",
              "    }\n",
              "    (() => {\n",
              "      let quickchartButtonEl =\n",
              "        document.querySelector('#df-d9580d18-e24b-4feb-bcd8-b1b5fbd5451f button');\n",
              "      quickchartButtonEl.style.display =\n",
              "        google.colab.kernel.accessAllowed ? 'block' : 'none';\n",
              "    })();\n",
              "  </script>\n",
              "</div>\n",
              "\n",
              "    </div>\n",
              "  </div>\n"
            ]
          },
          "metadata": {},
          "execution_count": 6
        }
      ]
    },
    {
      "cell_type": "markdown",
      "source": [
        "# Homework 4 #"
      ],
      "metadata": {
        "id": "xwRoPvvWmxeM"
      }
    },
    {
      "cell_type": "markdown",
      "source": [
        "The goal of this is to use a Machine Learning package in Python called sklearn. The best resource for learning sklearn is its documentation found at https://scikit-learn.org/stable/.\n",
        "\n",
        "You may work in a group of 2. Your Homework 4 submission should only include content from this point on. pdf, not ipynb.\n",
        "\n",
        "There are two datasets: iris dataset (https://archive.ics.uci.edu/dataset/53/iris) and OSA (http://pluto.hood.edu/~dong/datasets/osa_hf_all_features_labeled_processed_2.csv about 174M). Your task is build and compare different classification algorithms introduced in this class."
      ],
      "metadata": {
        "id": "G82moCTdkh7i"
      }
    },
    {
      "cell_type": "markdown",
      "source": [],
      "metadata": {
        "id": "sHUUxYgcqADc"
      }
    },
    {
      "cell_type": "markdown",
      "source": [
        "### Requirements and questions ###\n",
        "**Exploratory Analysis**(12 points)\n",
        "<ul>\n",
        "<li>Are three any correlation between features? why or why not? </li>\n",
        "<li>Are there any outliers in the dataset? why or why not? </li>\n",
        "<li>Are there any normalization needed? why or why not?</li>\n",
        "<li>Are there any missing values? Why or why not?</li>\n",
        "</ul>"
      ],
      "metadata": {
        "id": "_-rIit8ip4Dl"
      }
    },
    {
      "cell_type": "markdown",
      "source": [
        "**Classification** (28 points)\n",
        "<ul>\n",
        "<li>Expriment the following algorithms/models: decision tree, random forest, adaboost, KNN, SVM, MLP, and Naive Baye</li>\n",
        "<Li>For each model, train-test-split with 80% for train and 20% for test.</li>\n",
        "<li>For each algorithm, output the following performance meaures: accuracy, precision, and recall</li>\n",
        "</ul>\n"
      ],
      "metadata": {
        "id": "GZvxNUaUtgmf"
      }
    },
    {
      "cell_type": "markdown",
      "source": [
        "**Visualiation** (5 points)\n",
        "\n",
        "Pick at least one visualization for model perfomnace comparison."
      ],
      "metadata": {
        "id": "ZO5j35-vt86-"
      }
    },
    {
      "cell_type": "markdown",
      "source": [
        "**Reflection** (5/15 points)\n",
        "<ul>\n",
        "<li>What is the best K in KNN? Only consider k in the range of 1-15. Use odd numbers only.</li>\n",
        "<li>What is the most important features found by decision tree and random forest? (Graduate students only)</li>\n",
        "<li>Which algorithm has the highest accuracy? Is there model overfitting for this algorithm? Why or why not?Perform 10-fold cross-validation with this algorithm and report the accuracy, precision and recall. (Graduate students only) </li>\n",
        "</ul>"
      ],
      "metadata": {
        "id": "WXCk-rrPtike"
      }
    }
  ],
  "metadata": {
    "kernelspec": {
      "display_name": "Python 3",
      "language": "python",
      "name": "python3"
    },
    "language_info": {
      "codemirror_mode": {
        "name": "ipython",
        "version": 3
      },
      "file_extension": ".py",
      "mimetype": "text/x-python",
      "name": "python",
      "nbconvert_exporter": "python",
      "pygments_lexer": "ipython3",
      "version": "3.6.3"
    },
    "colab": {
      "provenance": [],
      "include_colab_link": true
    }
  },
  "nbformat": 4,
  "nbformat_minor": 0
}